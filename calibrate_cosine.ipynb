{
 "cells": [
  {
   "cell_type": "markdown",
   "id": "697162ea",
   "metadata": {},
   "source": [
    "# Calibrate files"
   ]
  },
  {
   "cell_type": "code",
   "execution_count": 1,
   "id": "67ede13d",
   "metadata": {},
   "outputs": [],
   "source": [
    "import productomator as pm"
   ]
  },
  {
   "cell_type": "code",
   "execution_count": 2,
   "id": "1a502e75",
   "metadata": {},
   "outputs": [],
   "source": [
    "class CalibrateMFR(pm.worker.Workplanner):\n",
    "    def __init__(self,instrument,*args, **kwargs):\n",
    "        super().__init__(*args, **kwargs)\n",
    "        self.instrument = instrument\n",
    "        \n",
    "    def process_row(self, row = None, iloc = None, loc = None):\n",
    "        if iloc is not None:\n",
    "            row = self.workplan.iloc[iloc]\n",
    "        elif loc is not None:\n",
    "            row = self.workplan.loc[loc]\n",
    "        self.tp_row = row\n",
    "        ds = self.instrument.raw2calibrated(row.p2f_in)\n",
    "        return ds"
   ]
  },
  {
   "cell_type": "code",
   "execution_count": 3,
   "id": "38595809",
   "metadata": {},
   "outputs": [],
   "source": [
    "import atmPy.radiation.instrumentation.spectral as atmspc"
   ]
  },
  {
   "cell_type": "code",
   "execution_count": 4,
   "id": "fef70797",
   "metadata": {},
   "outputs": [],
   "source": [
    "version = '0.1'\n",
    "##################\n",
    "version_in = '0.1'\n",
    "home = True\n",
    "date_from_name = lambda name: name.split('.')[-2].split('_')[-1]"
   ]
  },
  {
   "cell_type": "markdown",
   "id": "122191d9",
   "metadata": {},
   "source": [
    "## 648"
   ]
  },
  {
   "cell_type": "code",
   "execution_count": 5,
   "id": "90bf314a",
   "metadata": {},
   "outputs": [
    {
     "data": {
      "text/plain": [
       "<module 'atmPy.radiation.instrumentation.spectral' from '/home/hagen/prog/atm-py/atmPy/radiation/instrumentation/spectral.py'>"
      ]
     },
     "execution_count": 5,
     "metadata": {},
     "output_type": "execute_result"
    }
   ],
   "source": [
    "reload(atmspc)"
   ]
  },
  {
   "cell_type": "code",
   "execution_count": 6,
   "id": "b9d92c1d",
   "metadata": {},
   "outputs": [
    {
     "name": "stdout",
     "output_type": "stream",
     "text": [
      "Line 3 is empty\n",
      "Line 9 is empty\n",
      "Line 20 is empty\n",
      "Line 38 is empty\n",
      "Line 40 is empty\n",
      "Done reading header\n",
      "Done reading data1\n",
      "Line 414 is empty\n",
      "Line 415 is empty\n",
      "Line 3 is empty\n",
      "Line 9 is empty\n",
      "Line 20 is empty\n",
      "Line 38 is empty\n",
      "Line 40 is empty\n",
      "Done reading header\n",
      "Done reading data1\n",
      "Line 414 is empty\n",
      "Line 415 is empty\n",
      "Line 3 is empty\n",
      "Line 9 is empty\n",
      "Line 20 is empty\n",
      "Line 38 is empty\n",
      "Line 40 is empty\n",
      "Done reading header\n",
      "Done reading data1\n",
      "Line 414 is empty\n",
      "Line 415 is empty\n"
     ]
    }
   ],
   "source": [
    "serialno = '648'\n",
    "output_file_format = f'frc_{serialno}_v{version}_{{date}}.nc'\n",
    "if home:\n",
    "    p2fld_in = f'/nfs/grad/Inst/MFR/Campaign/frc/2025/mfrsr/{serialno}.netcdf/v{version_in}/'\n",
    "    p2fld_out = f'/nfs/grad/Inst/MFR/Campaign/frc/2025/mfrsr/{serialno}.cal/v{version}/'\n",
    "\n",
    "instument = atmspc.Mfrsr(\n",
    "                        spectral_calibration = f'/nfs/grad/Inst/MFR/Campaign/frc/2025/mfrsr/cals/V0{serialno}_28523D.SPR',#'../calibrations/V066218221Cd.SPR',\n",
    "                        logger_calibration = None,#'../calibrations/mfr648/648.CAL',#'../calibrations/mfr662/MFR662NewCalFiles/662New.CAL',\n",
    "                        head_calibration = None ,#'../calibrations/VisRSR_V0662_2023_ABS_calc1.xlsx',\n",
    "                        cosine_responds = f'/nfs/grad/Inst/MFR/Campaign/frc/2025/mfrsr/cals/V0{serialno}_23225B.COS',#'../calibrations/V066219721B.COS',\n",
    "                        )\n",
    "\n",
    "cal_mfrsr= CalibrateMFR(instument, p2fld_in, p2fld_out, date_from_name, output_file_format)"
   ]
  },
  {
   "cell_type": "code",
   "execution_count": 7,
   "id": "b5504448",
   "metadata": {},
   "outputs": [
    {
     "name": "stderr",
     "output_type": "stream",
     "text": [
      "/home/hagen/programms/anaconda3/envs/py312/lib/python3.12/site-packages/pysolar/solartime.py:113: UserWarning: I don't know about leap seconds after 2023\n",
      "  warnings.warn \\\n",
      "/home/hagen/prog/atm-py/atmPy/radiation/solar.py:125: UserWarning: Discarding nonzero nanoseconds in conversion.\n",
      "  date = date.to_pydatetime()\n"
     ]
    },
    {
     "name": "stdout",
     "output_type": "stream",
     "text": [
      "."
     ]
    },
    {
     "name": "stderr",
     "output_type": "stream",
     "text": [
      "/home/hagen/programms/anaconda3/envs/py312/lib/python3.12/site-packages/pysolar/solartime.py:113: UserWarning: I don't know about leap seconds after 2023\n",
      "  warnings.warn \\\n",
      "/home/hagen/prog/atm-py/atmPy/radiation/solar.py:125: UserWarning: Discarding nonzero nanoseconds in conversion.\n",
      "  date = date.to_pydatetime()\n"
     ]
    },
    {
     "name": "stdout",
     "output_type": "stream",
     "text": [
      "."
     ]
    },
    {
     "name": "stderr",
     "output_type": "stream",
     "text": [
      "/home/hagen/programms/anaconda3/envs/py312/lib/python3.12/site-packages/pysolar/solartime.py:113: UserWarning: I don't know about leap seconds after 2023\n",
      "  warnings.warn \\\n",
      "/home/hagen/prog/atm-py/atmPy/radiation/solar.py:125: UserWarning: Discarding nonzero nanoseconds in conversion.\n",
      "  date = date.to_pydatetime()\n"
     ]
    },
    {
     "name": "stdout",
     "output_type": "stream",
     "text": [
      "."
     ]
    },
    {
     "name": "stderr",
     "output_type": "stream",
     "text": [
      "/home/hagen/programms/anaconda3/envs/py312/lib/python3.12/site-packages/pysolar/solartime.py:113: UserWarning: I don't know about leap seconds after 2023\n",
      "  warnings.warn \\\n",
      "/home/hagen/prog/atm-py/atmPy/radiation/solar.py:125: UserWarning: Discarding nonzero nanoseconds in conversion.\n",
      "  date = date.to_pydatetime()\n"
     ]
    },
    {
     "name": "stdout",
     "output_type": "stream",
     "text": [
      "."
     ]
    },
    {
     "name": "stderr",
     "output_type": "stream",
     "text": [
      "/home/hagen/programms/anaconda3/envs/py312/lib/python3.12/site-packages/pysolar/solartime.py:113: UserWarning: I don't know about leap seconds after 2023\n",
      "  warnings.warn \\\n",
      "/home/hagen/prog/atm-py/atmPy/radiation/solar.py:125: UserWarning: Discarding nonzero nanoseconds in conversion.\n",
      "  date = date.to_pydatetime()\n"
     ]
    },
    {
     "name": "stdout",
     "output_type": "stream",
     "text": [
      "."
     ]
    },
    {
     "name": "stderr",
     "output_type": "stream",
     "text": [
      "/home/hagen/programms/anaconda3/envs/py312/lib/python3.12/site-packages/pysolar/solartime.py:113: UserWarning: I don't know about leap seconds after 2023\n",
      "  warnings.warn \\\n",
      "/home/hagen/prog/atm-py/atmPy/radiation/solar.py:125: UserWarning: Discarding nonzero nanoseconds in conversion.\n",
      "  date = date.to_pydatetime()\n"
     ]
    },
    {
     "name": "stdout",
     "output_type": "stream",
     "text": [
      "."
     ]
    },
    {
     "name": "stderr",
     "output_type": "stream",
     "text": [
      "/home/hagen/programms/anaconda3/envs/py312/lib/python3.12/site-packages/pysolar/solartime.py:113: UserWarning: I don't know about leap seconds after 2023\n",
      "  warnings.warn \\\n",
      "/home/hagen/prog/atm-py/atmPy/radiation/solar.py:125: UserWarning: Discarding nonzero nanoseconds in conversion.\n",
      "  date = date.to_pydatetime()\n"
     ]
    },
    {
     "name": "stdout",
     "output_type": "stream",
     "text": [
      "."
     ]
    }
   ],
   "source": [
    "cal_mfrsr.process()"
   ]
  },
  {
   "cell_type": "markdown",
   "id": "1e42058c",
   "metadata": {},
   "source": [
    "## 649"
   ]
  },
  {
   "cell_type": "code",
   "execution_count": 8,
   "id": "d2d9c8ef",
   "metadata": {},
   "outputs": [
    {
     "name": "stdout",
     "output_type": "stream",
     "text": [
      "Line 3 is empty\n",
      "Line 9 is empty\n",
      "Line 20 is empty\n",
      "Line 38 is empty\n",
      "Line 40 is empty\n",
      "Done reading header\n",
      "Done reading data1\n",
      "Line 414 is empty\n",
      "Line 415 is empty\n",
      "Line 3 is empty\n",
      "Line 9 is empty\n",
      "Line 20 is empty\n",
      "Line 38 is empty\n",
      "Line 40 is empty\n",
      "Done reading header\n",
      "Done reading data1\n",
      "Line 414 is empty\n",
      "Line 415 is empty\n",
      "Line 3 is empty\n",
      "Line 9 is empty\n",
      "Line 20 is empty\n",
      "Line 38 is empty\n",
      "Line 40 is empty\n",
      "Done reading header\n",
      "Done reading data1\n",
      "Line 414 is empty\n",
      "Line 415 is empty\n"
     ]
    }
   ],
   "source": [
    "serialno = '649'\n",
    "output_file_format = f'frc_{serialno}_v{version}_{{date}}.nc'\n",
    "if home:\n",
    "    p2fld_in = f'/nfs/grad/Inst/MFR/Campaign/frc/2025/mfrsr/{serialno}.netcdf/v{version_in}/'\n",
    "    p2fld_out = f'/nfs/grad/Inst/MFR/Campaign/frc/2025/mfrsr/{serialno}.cal/v{version}/'\n",
    "\n",
    "instument = atmspc.Mfrsr(\n",
    "                        spectral_calibration = f'/nfs/grad/Inst/MFR/Campaign/frc/2025/mfrsr/cals/V0{serialno}_28423D.SPR',#'../calibrations/V066218221Cd.SPR',\n",
    "                        logger_calibration = None,#'../calibrations/mfr648/648.CAL',#'../calibrations/mfr662/MFR662NewCalFiles/662New.CAL',\n",
    "                        head_calibration = None ,#'../calibrations/VisRSR_V0662_2023_ABS_calc1.xlsx',\n",
    "                        cosine_responds = f'/nfs/grad/Inst/MFR/Campaign/frc/2025/mfrsr/cals/V0{serialno}_22725B.COS',#'../calibrations/V066219721B.COS',\n",
    "                        )\n",
    "\n",
    "cal_mfrsr= CalibrateMFR(instument, p2fld_in, p2fld_out, date_from_name, output_file_format)"
   ]
  },
  {
   "cell_type": "code",
   "execution_count": 9,
   "id": "49333367",
   "metadata": {},
   "outputs": [
    {
     "name": "stderr",
     "output_type": "stream",
     "text": [
      "/home/hagen/programms/anaconda3/envs/py312/lib/python3.12/site-packages/pysolar/solartime.py:113: UserWarning: I don't know about leap seconds after 2023\n",
      "  warnings.warn \\\n",
      "/home/hagen/prog/atm-py/atmPy/radiation/solar.py:125: UserWarning: Discarding nonzero nanoseconds in conversion.\n",
      "  date = date.to_pydatetime()\n"
     ]
    },
    {
     "name": "stdout",
     "output_type": "stream",
     "text": [
      "."
     ]
    },
    {
     "name": "stderr",
     "output_type": "stream",
     "text": [
      "/home/hagen/programms/anaconda3/envs/py312/lib/python3.12/site-packages/pysolar/solartime.py:113: UserWarning: I don't know about leap seconds after 2023\n",
      "  warnings.warn \\\n",
      "/home/hagen/prog/atm-py/atmPy/radiation/solar.py:125: UserWarning: Discarding nonzero nanoseconds in conversion.\n",
      "  date = date.to_pydatetime()\n"
     ]
    },
    {
     "name": "stdout",
     "output_type": "stream",
     "text": [
      "."
     ]
    },
    {
     "name": "stderr",
     "output_type": "stream",
     "text": [
      "/home/hagen/programms/anaconda3/envs/py312/lib/python3.12/site-packages/pysolar/solartime.py:113: UserWarning: I don't know about leap seconds after 2023\n",
      "  warnings.warn \\\n",
      "/home/hagen/prog/atm-py/atmPy/radiation/solar.py:125: UserWarning: Discarding nonzero nanoseconds in conversion.\n",
      "  date = date.to_pydatetime()\n"
     ]
    },
    {
     "name": "stdout",
     "output_type": "stream",
     "text": [
      "."
     ]
    },
    {
     "name": "stderr",
     "output_type": "stream",
     "text": [
      "/home/hagen/programms/anaconda3/envs/py312/lib/python3.12/site-packages/pysolar/solartime.py:113: UserWarning: I don't know about leap seconds after 2023\n",
      "  warnings.warn \\\n",
      "/home/hagen/prog/atm-py/atmPy/radiation/solar.py:125: UserWarning: Discarding nonzero nanoseconds in conversion.\n",
      "  date = date.to_pydatetime()\n"
     ]
    },
    {
     "name": "stdout",
     "output_type": "stream",
     "text": [
      "."
     ]
    },
    {
     "name": "stderr",
     "output_type": "stream",
     "text": [
      "/home/hagen/programms/anaconda3/envs/py312/lib/python3.12/site-packages/pysolar/solartime.py:113: UserWarning: I don't know about leap seconds after 2023\n",
      "  warnings.warn \\\n",
      "/home/hagen/prog/atm-py/atmPy/radiation/solar.py:125: UserWarning: Discarding nonzero nanoseconds in conversion.\n",
      "  date = date.to_pydatetime()\n"
     ]
    },
    {
     "name": "stdout",
     "output_type": "stream",
     "text": [
      "."
     ]
    },
    {
     "name": "stderr",
     "output_type": "stream",
     "text": [
      "/home/hagen/programms/anaconda3/envs/py312/lib/python3.12/site-packages/pysolar/solartime.py:113: UserWarning: I don't know about leap seconds after 2023\n",
      "  warnings.warn \\\n",
      "/home/hagen/prog/atm-py/atmPy/radiation/solar.py:125: UserWarning: Discarding nonzero nanoseconds in conversion.\n",
      "  date = date.to_pydatetime()\n"
     ]
    },
    {
     "name": "stdout",
     "output_type": "stream",
     "text": [
      "."
     ]
    },
    {
     "name": "stderr",
     "output_type": "stream",
     "text": [
      "/home/hagen/programms/anaconda3/envs/py312/lib/python3.12/site-packages/pysolar/solartime.py:113: UserWarning: I don't know about leap seconds after 2023\n",
      "  warnings.warn \\\n",
      "/home/hagen/prog/atm-py/atmPy/radiation/solar.py:125: UserWarning: Discarding nonzero nanoseconds in conversion.\n",
      "  date = date.to_pydatetime()\n"
     ]
    },
    {
     "name": "stdout",
     "output_type": "stream",
     "text": [
      "."
     ]
    }
   ],
   "source": [
    "cal_mfrsr.process()"
   ]
  },
  {
   "cell_type": "code",
   "execution_count": null,
   "id": "da7f454e",
   "metadata": {},
   "outputs": [],
   "source": []
  }
 ],
 "metadata": {
  "kernelspec": {
   "display_name": "py312",
   "language": "python",
   "name": "py312"
  },
  "language_info": {
   "codemirror_mode": {
    "name": "ipython",
    "version": 3
   },
   "file_extension": ".py",
   "mimetype": "text/x-python",
   "name": "python",
   "nbconvert_exporter": "python",
   "pygments_lexer": "ipython3",
   "version": "3.12.12"
  }
 },
 "nbformat": 4,
 "nbformat_minor": 5
}
